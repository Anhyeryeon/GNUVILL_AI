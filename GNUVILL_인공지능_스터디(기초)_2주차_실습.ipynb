{
  "nbformat": 4,
  "nbformat_minor": 0,
  "metadata": {
    "colab": {
      "name": "GNUVILL_인공지능_스터디(기초)_2주차_실습.ipynb",
      "provenance": [],
      "collapsed_sections": [],
      "authorship_tag": "ABX9TyP/w4yg/DAtmX9jRt/VxFv9",
      "include_colab_link": true
    },
    "kernelspec": {
      "name": "python3",
      "display_name": "Python 3"
    },
    "language_info": {
      "name": "python"
    }
  },
  "cells": [
    {
      "cell_type": "markdown",
      "metadata": {
        "id": "view-in-github",
        "colab_type": "text"
      },
      "source": [
        "<a href=\"https://colab.research.google.com/github/minjeong-kim-git/GNUVILL_AI/blob/main/GNUVILL_%EC%9D%B8%EA%B3%B5%EC%A7%80%EB%8A%A5_%EC%8A%A4%ED%84%B0%EB%94%94(%EA%B8%B0%EC%B4%88)_2%EC%A3%BC%EC%B0%A8_%EC%8B%A4%EC%8A%B5.ipynb\" target=\"_parent\"><img src=\"https://colab.research.google.com/assets/colab-badge.svg\" alt=\"Open In Colab\"/></a>"
      ]
    },
    {
      "cell_type": "markdown",
      "metadata": {
        "id": "lkkbigvcyCwZ"
      },
      "source": [
        "#GNUVILL 인공지능 스터디(기초) 2주차 실습\n",
        "### 레모네이드\n",
        "\n",
        "\n",
        "\n",
        "---\n",
        "\n",
        "\n",
        "\n"
      ]
    },
    {
      "cell_type": "markdown",
      "metadata": {
        "id": "7f4BJTZsyPWN"
      },
      "source": [
        "## 1. 데이터 만들기"
      ]
    },
    {
      "cell_type": "code",
      "metadata": {
        "id": "0hmKXoE0yAXv"
      },
      "source": [
        "# 라이브러리\n",
        "import pandas as pd\n",
        "import numpy as np\n",
        "import matplotlib\n",
        "import matplotlib.pyplot as plt"
      ],
      "execution_count": 12,
      "outputs": []
    },
    {
      "cell_type": "code",
      "metadata": {
        "id": "FEwBLxeZyftW"
      },
      "source": [
        "# Scikit-learn\n",
        "from sklearn.linear_model import LinearRegression"
      ],
      "execution_count": 13,
      "outputs": []
    },
    {
      "cell_type": "code",
      "metadata": {
        "id": "6xvN9fFIy886"
      },
      "source": [
        "# csv 파일 업로드"
      ],
      "execution_count": 14,
      "outputs": []
    },
    {
      "cell_type": "code",
      "metadata": {
        "id": "uRVXAx8_zJ_J"
      },
      "source": [
        "# csv 파일 읽어오기"
      ],
      "execution_count": 15,
      "outputs": []
    },
    {
      "cell_type": "code",
      "metadata": {
        "id": "PNexMfovzPQm"
      },
      "source": [
        "# 산포도 그리기"
      ],
      "execution_count": 16,
      "outputs": []
    },
    {
      "cell_type": "code",
      "metadata": {
        "id": "Tr7JUX7NzSji"
      },
      "source": [
        "# 모델 생성, 데이터 fit 시키기"
      ],
      "execution_count": 17,
      "outputs": []
    },
    {
      "cell_type": "code",
      "metadata": {
        "id": "yq_CvrXGzVpH"
      },
      "source": [
        "# 기온이 23도일 때 레모네이드 판매량 예측"
      ],
      "execution_count": 18,
      "outputs": []
    },
    {
      "cell_type": "code",
      "metadata": {
        "id": "BGOpzVNazuLN"
      },
      "source": [
        "# 직선의 기울기"
      ],
      "execution_count": 19,
      "outputs": []
    },
    {
      "cell_type": "code",
      "metadata": {
        "id": "w8tJtOq1zyH4"
      },
      "source": [
        "# 직선의 절편"
      ],
      "execution_count": 20,
      "outputs": []
    },
    {
      "cell_type": "code",
      "metadata": {
        "id": "OP6EHbGGzzhy"
      },
      "source": [
        "# 그래프 그리기"
      ],
      "execution_count": 21,
      "outputs": []
    }
  ]
}