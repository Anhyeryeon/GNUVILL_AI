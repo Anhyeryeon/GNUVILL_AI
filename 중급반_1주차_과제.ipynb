{
  "nbformat": 4,
  "nbformat_minor": 0,
  "metadata": {
    "colab": {
      "name": "중급반_1주차_과제.ipynb",
      "provenance": [],
      "collapsed_sections": [],
      "authorship_tag": "ABX9TyNuWEQ4N9Alw4Wo1zKQT6as",
      "include_colab_link": true
    },
    "kernelspec": {
      "name": "python3",
      "display_name": "Python 3"
    }
  },
  "cells": [
    {
      "cell_type": "markdown",
      "metadata": {
        "id": "view-in-github",
        "colab_type": "text"
      },
      "source": [
        "<a href=\"https://colab.research.google.com/github/minjeong-kim-git/GNUVILL_AI/blob/main/%EC%A4%91%EA%B8%89%EB%B0%98_1%EC%A3%BC%EC%B0%A8_%EA%B3%BC%EC%A0%9C.ipynb\" target=\"_parent\"><img src=\"https://colab.research.google.com/assets/colab-badge.svg\" alt=\"Open In Colab\"/></a>"
      ]
    },
    {
      "cell_type": "markdown",
      "metadata": {
        "id": "mWomYaKXwNVB"
      },
      "source": [
        "#pandas, numpy, matplotlib 연습문제(중급)"
      ]
    },
    {
      "cell_type": "markdown",
      "metadata": {
        "id": "iDoBguA4wYhL"
      },
      "source": [
        "##pandas"
      ]
    },
    {
      "cell_type": "code",
      "metadata": {
        "id": "NugeGP-WxTuX"
      },
      "source": [
        "# pandas 라이브러리 import하기"
      ],
      "execution_count": 3,
      "outputs": []
    },
    {
      "cell_type": "code",
      "metadata": {
        "colab": {
          "base_uri": "https://localhost:8080/"
        },
        "id": "lsJ8q0-Tvr1n",
        "outputId": "864db9fe-b6e1-477f-9b92-0f8c7df41e4a"
      },
      "source": [
        "!wget --no-check-certificate 'https://docs.google.com/uc?export=download&id=1Zp8GnBFJwA6OzzIKX3MC83fg78qTmSiZ' -O titanic.csv #titanic.csv 파일 읽어오기"
      ],
      "execution_count": 4,
      "outputs": [
        {
          "output_type": "stream",
          "text": [
            "--2021-03-14 12:45:55--  https://docs.google.com/uc?export=download&id=1Zp8GnBFJwA6OzzIKX3MC83fg78qTmSiZ\n",
            "Resolving docs.google.com (docs.google.com)... 173.194.214.139, 173.194.214.102, 173.194.214.138, ...\n",
            "Connecting to docs.google.com (docs.google.com)|173.194.214.139|:443... connected.\n",
            "HTTP request sent, awaiting response... 302 Moved Temporarily\n",
            "Location: https://doc-0s-0c-docs.googleusercontent.com/docs/securesc/ha0ro937gcuc7l7deffksulhg5h7mbp1/qgmjnbf69gtn4vjqeddn7lo3ilrhccgu/1615725900000/03313771899298518038/*/1Zp8GnBFJwA6OzzIKX3MC83fg78qTmSiZ?e=download [following]\n",
            "Warning: wildcards not supported in HTTP.\n",
            "--2021-03-14 12:45:55--  https://doc-0s-0c-docs.googleusercontent.com/docs/securesc/ha0ro937gcuc7l7deffksulhg5h7mbp1/qgmjnbf69gtn4vjqeddn7lo3ilrhccgu/1615725900000/03313771899298518038/*/1Zp8GnBFJwA6OzzIKX3MC83fg78qTmSiZ?e=download\n",
            "Resolving doc-0s-0c-docs.googleusercontent.com (doc-0s-0c-docs.googleusercontent.com)... 172.217.204.132, 2607:f8b0:400c:c15::84\n",
            "Connecting to doc-0s-0c-docs.googleusercontent.com (doc-0s-0c-docs.googleusercontent.com)|172.217.204.132|:443... connected.\n",
            "HTTP request sent, awaiting response... 200 OK\n",
            "Length: 60302 (59K) [text/csv]\n",
            "Saving to: ‘titanic.csv’\n",
            "\n",
            "titanic.csv         100%[===================>]  58.89K  --.-KB/s    in 0s      \n",
            "\n",
            "2021-03-14 12:45:55 (116 MB/s) - ‘titanic.csv’ saved [60302/60302]\n",
            "\n"
          ],
          "name": "stdout"
        }
      ]
    },
    {
      "cell_type": "code",
      "metadata": {
        "id": "14REAHyGwYUV"
      },
      "source": [
        "# titanic 데이터 읽어오기"
      ],
      "execution_count": 5,
      "outputs": []
    },
    {
      "cell_type": "code",
      "metadata": {
        "id": "OC2DPnyBxSQG"
      },
      "source": [
        "# titanic Dataframe 보기"
      ],
      "execution_count": null,
      "outputs": []
    },
    {
      "cell_type": "markdown",
      "metadata": {
        "id": "w7yKoZI4xs6V"
      },
      "source": [
        "**1. 남자(male)이면서 Pclass가 1인 승객은 몇 명일까요?**"
      ]
    },
    {
      "cell_type": "code",
      "metadata": {
        "id": "EEb9ahHBxZCJ"
      },
      "source": [
        "# 코드 작성"
      ],
      "execution_count": 7,
      "outputs": []
    },
    {
      "cell_type": "markdown",
      "metadata": {
        "id": "-sP6oAEPx7dk"
      },
      "source": [
        "**2. 남자이면서 Pclass가 1이고 Fare가 50 이상인 승객은 몇 명일까요?**"
      ]
    },
    {
      "cell_type": "code",
      "metadata": {
        "id": "JUYdwdnNx65m"
      },
      "source": [
        "# 코드 작성"
      ],
      "execution_count": 8,
      "outputs": []
    },
    {
      "cell_type": "markdown",
      "metadata": {
        "id": "pP--1cLuyJQP"
      },
      "source": [
        "**3. 2번 문제의 내용을 데이터로 한 Dataframe 만들기**"
      ]
    },
    {
      "cell_type": "code",
      "metadata": {
        "id": "7dsvANHpyHSn"
      },
      "source": [
        "# 코드 작성"
      ],
      "execution_count": 9,
      "outputs": []
    },
    {
      "cell_type": "markdown",
      "metadata": {
        "id": "mdElRd673m92"
      },
      "source": [
        "**4. titanic에서 Name에서 first name만을 뽑아 새로운 열인 First_Name을 titanic에 추가해주세요**\r\n",
        "\r\n",
        "ex) johann + Sebastian + Bach\r\n",
        "\r\n",
        "(First name) +(Middle name) + (Surname)"
      ]
    },
    {
      "cell_type": "code",
      "metadata": {
        "id": "tPNAi2xd3mD7"
      },
      "source": [
        "# 코드 작성"
      ],
      "execution_count": 26,
      "outputs": []
    },
    {
      "cell_type": "markdown",
      "metadata": {
        "id": "hOD8EPf2y4H0"
      },
      "source": [
        "##matplotlib"
      ]
    },
    {
      "cell_type": "code",
      "metadata": {
        "id": "RLhe9jXiy3dp"
      },
      "source": [
        "# matplotlib import하기"
      ],
      "execution_count": 12,
      "outputs": []
    },
    {
      "cell_type": "markdown",
      "metadata": {
        "id": "cPAqgBaRzmGR"
      },
      "source": [
        "**Hint**\r\n",
        "특정 조건의 행 개수 세기"
      ]
    },
    {
      "cell_type": "code",
      "metadata": {
        "id": "LUYbAQTyzA99"
      },
      "source": [
        "dead_cnt = titanic.loc[titanic['Survived'] == 0, 'PassengerId'].count()\r\n",
        "survived_cnt = titanic.loc[titanic['Survived'] == 1, 'PassengerId'].count()\r\n",
        "print(dead_cnt)\r\n",
        "print(survived_cnt)"
      ],
      "execution_count": null,
      "outputs": []
    },
    {
      "cell_type": "markdown",
      "metadata": {
        "id": "YRWIJwYt0cvz"
      },
      "source": [
        "**1. 타이타닉의 사망자, 생존자를 Bar Chart로 표현해보세요.**"
      ]
    },
    {
      "cell_type": "code",
      "metadata": {
        "id": "wmX80M5L0AzC"
      },
      "source": [
        "# 코드 작성"
      ],
      "execution_count": 17,
      "outputs": []
    },
    {
      "cell_type": "markdown",
      "metadata": {
        "id": "S5qXWbAd0mUb"
      },
      "source": [
        "**2. Bar Chart에 나타나는 두 개의 Bar의 색을 다르게 바꿔보세요!**"
      ]
    },
    {
      "cell_type": "code",
      "metadata": {
        "id": "Xllmd1N70ljx"
      },
      "source": [
        "# 코드 작성"
      ],
      "execution_count": 18,
      "outputs": []
    },
    {
      "cell_type": "markdown",
      "metadata": {
        "id": "4Pl1KYJK1WA_"
      },
      "source": [
        "##seaborn(심화, 자율)"
      ]
    },
    {
      "cell_type": "markdown",
      "metadata": {
        "id": "vbKIY-sA1mFY"
      },
      "source": [
        "seaborn을 사용하면 matplotlib로 힘들게 그린 그래프를 더 쉽게 그릴 수 있습니다!"
      ]
    },
    {
      "cell_type": "code",
      "metadata": {
        "colab": {
          "base_uri": "https://localhost:8080/"
        },
        "id": "JaihKtxq0302",
        "outputId": "f9b1da16-7ae0-420f-8b61-7a125c2339a5"
      },
      "source": [
        "import seaborn as sns\r\n",
        "sns.set"
      ],
      "execution_count": 19,
      "outputs": [
        {
          "output_type": "execute_result",
          "data": {
            "text/plain": [
              "<function seaborn.rcmod.set>"
            ]
          },
          "metadata": {
            "tags": []
          },
          "execution_count": 19
        }
      ]
    },
    {
      "cell_type": "code",
      "metadata": {
        "id": "zNts_7_V2O2X"
      },
      "source": [
        "# titanic 데이터 읽어오기"
      ],
      "execution_count": 20,
      "outputs": []
    },
    {
      "cell_type": "markdown",
      "metadata": {
        "id": "T4vRAEnd2FbA"
      },
      "source": [
        "**1. seaborn의 count plot 사용하기**"
      ]
    },
    {
      "cell_type": "code",
      "metadata": {
        "colab": {
          "base_uri": "https://localhost:8080/",
          "height": 400
        },
        "id": "VATHmoe11Vjk",
        "outputId": "f782ccd5-95cd-4929-b31a-662f1852c52a"
      },
      "source": [
        "sns.catplot(data=titanic, x='Survived', hue='Sex', kind='count')"
      ],
      "execution_count": 22,
      "outputs": [
        {
          "output_type": "execute_result",
          "data": {
            "text/plain": [
              "<seaborn.axisgrid.FacetGrid at 0x7f491c479650>"
            ]
          },
          "metadata": {
            "tags": []
          },
          "execution_count": 22
        },
        {
          "output_type": "display_data",
          "data": {
            "image/png": "[encoded data removed]",
            "text/plain": [
              "<Figure size 437.975x360 with 1 Axes>"
            ]
          },
          "metadata": {
            "tags": []
          }
        }
      ]
    },
    {
      "cell_type": "code",
      "metadata": {
        "id": "bkGXAKUL2kv1"
      },
      "source": [
        "# 위 그래프를 참고해 Pclass별로 나누어 생존자, 사망자 수 카운트"
      ],
      "execution_count": 23,
      "outputs": []
    },
    {
      "cell_type": "code",
      "metadata": {
        "id": "F3bUPRCJ2zSZ"
      },
      "source": [
        "# 위 그래프를 참고해 Embarked별로 나누어 생존자, 사망자 수 카운트"
      ],
      "execution_count": 24,
      "outputs": []
    },
    {
      "cell_type": "code",
      "metadata": {
        "id": "fQxKCxvy26iR"
      },
      "source": [
        "# 위 그래프를 참고해 Age별로 나누어 생존자, 사망자 수 카운트"
      ],
      "execution_count": 25,
      "outputs": []
    }
  ]
}