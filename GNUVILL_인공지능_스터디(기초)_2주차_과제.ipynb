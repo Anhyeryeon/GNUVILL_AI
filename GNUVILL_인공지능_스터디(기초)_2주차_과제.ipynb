{
  "nbformat": 4,
  "nbformat_minor": 0,
  "metadata": {
    "colab": {
      "name": "GNUVILL_인공지능_스터디(기초)_2주차_과제",
      "provenance": [],
      "collapsed_sections": [],
      "authorship_tag": "ABX9TyMh2tIH5VEM6jiTxKhskZtr",
      "include_colab_link": true
    },
    "kernelspec": {
      "name": "python3",
      "display_name": "Python 3"
    },
    "language_info": {
      "name": "python"
    }
  },
  "cells": [
    {
      "cell_type": "markdown",
      "metadata": {
        "id": "view-in-github",
        "colab_type": "text"
      },
      "source": [
        "<a href=\"https://colab.research.google.com/github/minjeong-kim-git/GNUVILL_AI/blob/main/GNUVILL_%EC%9D%B8%EA%B3%B5%EC%A7%80%EB%8A%A5_%EC%8A%A4%ED%84%B0%EB%94%94(%EA%B8%B0%EC%B4%88)_2%EC%A3%BC%EC%B0%A8_%EA%B3%BC%EC%A0%9C.ipynb\" target=\"_parent\"><img src=\"https://colab.research.google.com/assets/colab-badge.svg\" alt=\"Open In Colab\"/></a>"
      ]
    },
    {
      "cell_type": "markdown",
      "metadata": {
        "id": "lkkbigvcyCwZ"
      },
      "source": [
        "#GNUVILL 인공지능 스터디(기초) 2주차 실습\n",
        "### 레모네이드\n",
        "\n",
        "\n",
        "\n",
        "---\n",
        "\n",
        "\n",
        "\n"
      ]
    },
    {
      "cell_type": "markdown",
      "metadata": {
        "id": "aUvqWO9V2LM4"
      },
      "source": [
        " 실습한 내용을 좀 더 발전시켜 복잡한 데이터셋에서 선형 회귀 분석을 해볼게요!"
      ]
    },
    {
      "cell_type": "markdown",
      "metadata": {
        "id": "Nr-q7eIf1WiY"
      },
      "source": [
        "## 0. 복습"
      ]
    },
    {
      "cell_type": "code",
      "metadata": {
        "id": "RrMVZ2xt1aai"
      },
      "source": [
        "# X, y 모델을 생성하고 데이터 fit 시키는 방법이 뭐였나요?(주석으로 써주세요.)\n",
        "\n",
        "# from sklearn.linear_model import LinearRegression\n",
        "# 작성"
      ],
      "execution_count": 2,
      "outputs": []
    },
    {
      "cell_type": "code",
      "metadata": {
        "id": "pYa4c-cY1uRQ"
      },
      "source": [
        "# y_predicted 변수에 fit된 X 데이터를 예측한 것을 저장해볼게요!"
      ],
      "execution_count": null,
      "outputs": []
    },
    {
      "cell_type": "markdown",
      "metadata": {
        "id": "7f4BJTZsyPWN"
      },
      "source": [
        "## 1. 데이터 만들기"
      ]
    },
    {
      "cell_type": "code",
      "metadata": {
        "id": "0hmKXoE0yAXv"
      },
      "source": [
        "# 라이브러리\n",
        "import pandas as pd\n",
        "import numpy as np\n",
        "import matplotlib\n",
        "import matplotlib.pyplot as plt"
      ],
      "execution_count": null,
      "outputs": []
    },
    {
      "cell_type": "code",
      "metadata": {
        "id": "FEwBLxeZyftW"
      },
      "source": [
        "# Scikit-learn\n",
        "from sklearn.linear_model import LinearRegression"
      ],
      "execution_count": null,
      "outputs": []
    },
    {
      "cell_type": "code",
      "metadata": {
        "id": "6xvN9fFIy886"
      },
      "source": [
        "# csv 파일 업로드"
      ],
      "execution_count": null,
      "outputs": []
    },
    {
      "cell_type": "code",
      "metadata": {
        "id": "uRVXAx8_zJ_J"
      },
      "source": [
        "# csv 파일 읽어오기"
      ],
      "execution_count": null,
      "outputs": []
    },
    {
      "cell_type": "markdown",
      "metadata": {
        "id": "dI9shLpk1Ftl"
      },
      "source": [
        "## 2. 선형 회귀 분석"
      ]
    },
    {
      "cell_type": "code",
      "metadata": {
        "id": "PNexMfovzPQm"
      },
      "source": [
        "# 산포도 그리기"
      ],
      "execution_count": null,
      "outputs": []
    },
    {
      "cell_type": "code",
      "metadata": {
        "id": "Tr7JUX7NzSji"
      },
      "source": [
        "# 모델 생성, 데이터 fit 시키기(위에서 복사 붙여넣기 하시면 됩니다!)"
      ],
      "execution_count": null,
      "outputs": []
    },
    {
      "cell_type": "code",
      "metadata": {
        "id": "yq_CvrXGzVpH"
      },
      "source": [
        "# 1) 기온이(화씨 기준) 32도, 55도, 74도일 때 레모네이드 판매량 예측해보기\n",
        "# 자유롭게 다른 기온에서의 레모네이드 판매량을 예측해보셔도 좋아요!"
      ],
      "execution_count": null,
      "outputs": []
    },
    {
      "cell_type": "code",
      "metadata": {
        "id": "BGOpzVNazuLN"
      },
      "source": [
        "# 2) 직선의 기울기"
      ],
      "execution_count": null,
      "outputs": []
    },
    {
      "cell_type": "code",
      "metadata": {
        "id": "w8tJtOq1zyH4"
      },
      "source": [
        "# 3) 직선의 절편"
      ],
      "execution_count": null,
      "outputs": []
    },
    {
      "cell_type": "code",
      "metadata": {
        "id": "OP6EHbGGzzhy"
      },
      "source": [
        "# 4) 그래프 그리기"
      ],
      "execution_count": null,
      "outputs": []
    }
  ]
}