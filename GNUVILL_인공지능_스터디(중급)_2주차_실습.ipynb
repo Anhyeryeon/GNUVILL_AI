{
  "nbformat": 4,
  "nbformat_minor": 0,
  "metadata": {
    "colab": {
      "name": "GNUVILL 인공지능 스터디(중급)_2주차 실습",
      "provenance": [],
      "collapsed_sections": [],
      "authorship_tag": "ABX9TyMJXC7uD3KtKCkI99Mu6jKU",
      "include_colab_link": true
    },
    "kernelspec": {
      "name": "python3",
      "display_name": "Python 3"
    }
  },
  "cells": [
    {
      "cell_type": "markdown",
      "metadata": {
        "id": "view-in-github",
        "colab_type": "text"
      },
      "source": [
        "<a href=\"https://colab.research.google.com/github/minjeong-kim-git/GNUVILL_AI/blob/main/GNUVILL_%EC%9D%B8%EA%B3%B5%EC%A7%80%EB%8A%A5_%EC%8A%A4%ED%84%B0%EB%94%94(%EC%A4%91%EA%B8%89)_2%EC%A3%BC%EC%B0%A8_%EC%8B%A4%EC%8A%B5.ipynb\" target=\"_parent\"><img src=\"https://colab.research.google.com/assets/colab-badge.svg\" alt=\"Open In Colab\"/></a>"
      ]
    },
    {
      "cell_type": "markdown",
      "metadata": {
        "id": "iS3L7ZsY_neJ"
      },
      "source": [
        "# GNUVILL 인공지능 스터디(중급반) 선형회귀 실습\r\n",
        "\r\n",
        "---\r\n",
        "\r\n"
      ]
    },
    {
      "cell_type": "markdown",
      "metadata": {
        "id": "gb3WyDnrA1kD"
      },
      "source": [
        "## 들어가며. sklearn LinearRegression 사용법"
      ]
    },
    {
      "cell_type": "code",
      "metadata": {
        "id": "ZLDafUqQ_VSh"
      },
      "source": [
        "# scikit-learn 불러오기\r\n",
        "from sklearn.linear_model import LinearRegression"
      ],
      "execution_count": null,
      "outputs": []
    },
    {
      "cell_type": "code",
      "metadata": {
        "id": "wEPyKQgNBHAz"
      },
      "source": [
        "# 모델 생성, 데이터 fit\r\n",
        "# X, y는 데이터를 의미\r\n",
        "\r\n",
        "line_fitter = LinearRegression()\r\n",
        "line_fitter.fit(X, y)"
      ],
      "execution_count": null,
      "outputs": []
    },
    {
      "cell_type": "code",
      "metadata": {
        "id": "C8Y2qVI3Ba-q"
      },
      "source": [
        "y_predicted = line_fitter.predict(X)"
      ],
      "execution_count": null,
      "outputs": []
    },
    {
      "cell_type": "markdown",
      "metadata": {
        "id": "sRTmIU5kB3tv"
      },
      "source": [
        "## sklearn LinearRegression 실습"
      ]
    },
    {
      "cell_type": "code",
      "metadata": {
        "id": "iPG2A1QuB1OB"
      },
      "source": [
        "# 라이브러리 import\r\n",
        "from sklearn.linear_model import LinearRegression\r\n",
        "import pandas as pd\r\n",
        "import numpy as np\r\n",
        "import matplotlib.pyplot as plt"
      ],
      "execution_count": null,
      "outputs": []
    },
    {
      "cell_type": "code",
      "metadata": {
        "id": "cnfSlObuCDsx"
      },
      "source": [
        "# csv 파일 업로드하기\r\n",
        "from google.colab import files\r\n",
        "uploaded = files.upload()"
      ],
      "execution_count": null,
      "outputs": []
    },
    {
      "cell_type": "code",
      "metadata": {
        "id": "ua-Z9zOsENUe"
      },
      "source": [
        "# csv 파일 읽어오기"
      ],
      "execution_count": null,
      "outputs": []
    },
    {
      "cell_type": "code",
      "metadata": {
        "id": "yCM2MSjmFDGC"
      },
      "source": [
        "# 산포도 그리기"
      ],
      "execution_count": null,
      "outputs": []
    },
    {
      "cell_type": "code",
      "metadata": {
        "id": "1cVlfOiqFT14"
      },
      "source": [
        "# 모델 생성, 데이터 fit 시키기기"
      ],
      "execution_count": null,
      "outputs": []
    },
    {
      "cell_type": "code",
      "metadata": {
        "id": "n_zA_9sqFaFW"
      },
      "source": [
        "# 키가 70인 사람 예측"
      ],
      "execution_count": null,
      "outputs": []
    },
    {
      "cell_type": "code",
      "metadata": {
        "id": "1FNHY7YVFca2"
      },
      "source": [
        "# 직선의 기울기"
      ],
      "execution_count": null,
      "outputs": []
    },
    {
      "cell_type": "code",
      "metadata": {
        "id": "49qTG0VQFer1"
      },
      "source": [
        "# 직선의 절편"
      ],
      "execution_count": null,
      "outputs": []
    },
    {
      "cell_type": "code",
      "metadata": {
        "id": "xzixCLm7FgI4"
      },
      "source": [
        "# 그래프 그리기"
      ],
      "execution_count": null,
      "outputs": []
    }
  ]
}